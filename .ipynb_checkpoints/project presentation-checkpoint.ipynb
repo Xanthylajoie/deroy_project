{
 "cells": [
  {
   "cell_type": "markdown",
   "id": "30e70958",
   "metadata": {
    "slideshow": {
     "slide_type": "slide"
    }
   },
   "source": [
    "# An easy guide to \"not throwing your expensive computer out the window because you can't run a Python neuroimaging tool\""
   ]
  },
  {
   "cell_type": "markdown",
   "id": "a1c18421",
   "metadata": {
    "slideshow": {
     "slide_type": "slide"
    }
   },
   "source": [
    "## Personal background\n",
    "My name is Claudéric, I am graduate student at Université de Montréal, I'm doing a master in psychology at the moment. I am somewhat experienced with programming and computer science in general. My field of interest is signal processing in neuroimage/psychophysiological signal. My master project is on the evaluation of different program and pipeline for preprocessing electrodermal activity (EDA) signal."
   ]
  },
  {
   "cell_type": "markdown",
   "id": "e0602cd4",
   "metadata": {
    "slideshow": {
     "slide_type": "slide"
    }
   },
   "source": [
    "## Project background\n",
    "<img align=\"right\" width=\"500\" height=\"400\" src=\"https://c.tenor.com/9ItR8nSuxE0AAAAd/thumbs-up-computer.gif\">Working with computer in context of neuroimaging is awesome! There is a multitude of tools, programs, pipelines, etc. to analyse the so precious data we have collected."
   ]
  },
  {
   "cell_type": "markdown",
   "id": "8fdf12a8",
   "metadata": {
    "slideshow": {
     "slide_type": "subslide"
    }
   },
   "source": [
    "## Project background\n",
    "<img align=\"right\" width=\"600\" height=\"400\" src=\"https://c.tenor.com/hKTCoKfeJGQAAAAd/hate-this.gif\">But somtimes, working with computer might be more a challenge than anything else. I mean we all have been there at least once..."
   ]
  },
  {
   "cell_type": "markdown",
   "id": "59d31d71",
   "metadata": {
    "slideshow": {
     "slide_type": "slide"
    }
   },
   "source": [
    "## Project background\n",
    "But there is no need for all this frustration!\n",
    "Of all the awesome tools availble, there are some that exist to simplify things."
   ]
  },
  {
   "cell_type": "markdown",
   "id": "43218de9",
   "metadata": {
    "slideshow": {
     "slide_type": "slide"
    }
   },
   "source": [
    "## Project background\n",
    "One of the best way to easily run code for your analysis is to use:\n",
    "\n",
    "Scripting \t\t       \t | Packaging\t\t        \t|  Containerize\n",
    ":-----------------------:|:----------------------------:|:----------------------------:\n",
    "<img width=300px height=300px src=\"https://cdn-icons-png.flaticon.com/512/2572/2572499.png\"/>  |  <img width=300px height=300px src=\"https://cdn-icons-png.flaticon.com/512/814/814989.png\"/>  |  <img width=300px height=300px src=\"https://cdn-icons-png.flaticon.com/512/5969/5969028.png\"/>"
   ]
  },
  {
   "cell_type": "markdown",
   "id": "be4ff1c5",
   "metadata": {
    "slideshow": {
     "slide_type": "slide"
    }
   },
   "source": [
    "## Project background\n",
    "In 2012, Gronenschil et al. have found difference in volume of brain area using two versions of the same software on different computer as well as on two versions of the same OS. This means that I could run some analysis with software X and another researcher runs the same analysis with the exact same software X but with a more up to date OS than me and we'll get different results."
   ]
  }
 ],
 "metadata": {
  "celltoolbar": "Slideshow",
  "kernelspec": {
   "display_name": "Python 3",
   "language": "python",
   "name": "python3"
  },
  "language_info": {
   "codemirror_mode": {
    "name": "ipython",
    "version": 3
   },
   "file_extension": ".py",
   "mimetype": "text/x-python",
   "name": "python",
   "nbconvert_exporter": "python",
   "pygments_lexer": "ipython3",
   "version": "3.8.8"
  }
 },
 "nbformat": 4,
 "nbformat_minor": 5
}
